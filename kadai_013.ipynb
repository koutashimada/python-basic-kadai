{
  "nbformat": 4,
  "nbformat_minor": 0,
  "metadata": {
    "colab": {
      "provenance": []
    },
    "kernelspec": {
      "name": "python3",
      "display_name": "Python 3"
    },
    "language_info": {
      "name": "python"
    }
  },
  "cells": [
    {
      "cell_type": "code",
      "execution_count": 10,
      "metadata": {
        "colab": {
          "base_uri": "https://localhost:8080/"
        },
        "id": "GZteBpo3fRUi",
        "outputId": "f106c6c6-8759-472e-f92e-d589606d6bee"
      },
      "outputs": [
        {
          "output_type": "stream",
          "name": "stdout",
          "text": [
            "1100.0円\n"
          ]
        }
      ],
      "source": [
        "def add_arguments(price,tax):\n",
        "\n",
        "  total = price * tax\n",
        "\n",
        "  print(f\"{total}円\")\n",
        "\n",
        "add_arguments(1000,1.1)"
      ]
    }
  ]
}