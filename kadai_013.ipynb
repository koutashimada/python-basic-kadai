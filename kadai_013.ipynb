{
  "nbformat": 4,
  "nbformat_minor": 0,
  "metadata": {
    "colab": {
      "provenance": []
    },
    "kernelspec": {
      "name": "python3",
      "display_name": "Python 3"
    },
    "language_info": {
      "name": "python"
    }
  },
  "cells": [
    {
      "cell_type": "code",
      "execution_count": 5,
      "metadata": {
        "colab": {
          "base_uri": "https://localhost:8080/"
        },
        "id": "hpBlXe8FBG0u",
        "outputId": "9b9d708c-1fd0-417d-c923-7ada36801b05"
      },
      "outputs": [
        {
          "output_type": "stream",
          "name": "stdout",
          "text": [
            "1100.0円\n"
          ]
        }
      ],
      "source": [
        "def add_arguments(price,tax):\n",
        "  totale = price * tax\n",
        "  return totale\n",
        "\n",
        "tax_price = add_arguments(1000, 1.1)\n",
        "print(f\"{tax_price}円\")"
      ]
    }
  ]
}