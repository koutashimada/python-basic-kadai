{
  "nbformat": 4,
  "nbformat_minor": 0,
  "metadata": {
    "colab": {
      "provenance": []
    },
    "kernelspec": {
      "name": "python3",
      "display_name": "Python 3"
    },
    "language_info": {
      "name": "python"
    }
  },
  "cells": [
    {
      "cell_type": "code",
      "execution_count": 30,
      "metadata": {
        "colab": {
          "base_uri": "https://localhost:8080/"
        },
        "id": "LM8EqdPM8KmR",
        "outputId": "b833f442-17ca-481c-91a4-3802af1a9aab"
      },
      "outputs": [
        {
          "output_type": "stream",
          "name": "stdout",
          "text": [
            "侍は大人です\n",
            "侍次郎は大人ではありません\n"
          ]
        }
      ],
      "source": [
        "class Human:\n",
        "    def __init__(self):\n",
        "      self.name = \"\"\n",
        "      self.age =\"\"\n",
        "\n",
        "    def set(self,name,age):\n",
        "      self.name = name\n",
        "      self.age = age\n",
        "\n",
        "    def check_adult(self):\n",
        "      if self.age >= 20:\n",
        "        print(f\"{self.name}は大人です\")\n",
        "      else:\n",
        "        print(f\"{self.name}は大人ではありません\")\n",
        "\n",
        "\n",
        "human1 = Human()\n",
        "human1.set(\"侍\", 30)\n",
        "human1.check_adult()\n",
        "\n",
        "human2 = Human()\n",
        "human2.set(\"侍次郎\", 8)\n",
        "human2.check_adult()"
      ]
    }
  ]
}