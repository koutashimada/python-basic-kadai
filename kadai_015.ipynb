{
  "nbformat": 4,
  "nbformat_minor": 0,
  "metadata": {
    "colab": {
      "provenance": []
    },
    "kernelspec": {
      "name": "python3",
      "display_name": "Python 3"
    },
    "language_info": {
      "name": "python"
    }
  },
  "cells": [
    {
      "cell_type": "code",
      "execution_count": 18,
      "metadata": {
        "colab": {
          "base_uri": "https://localhost:8080/"
        },
        "id": "hpBlXe8FBG0u",
        "outputId": "807db94d-e529-42ca-b144-111e2b48fd83"
      },
      "outputs": [
        {
          "output_type": "stream",
          "name": "stdout",
          "text": [
            "侍太郎\n",
            "36\n",
            "侍花子\n",
            "28\n"
          ]
        }
      ],
      "source": [
        "class Human:\n",
        "  def __init__(self,name,age):\n",
        "    self.name = name\n",
        "    self.age = age\n",
        "\n",
        "\n",
        "user1 = Human(\"侍太郎\" , 36 )\n",
        "\n",
        "print(user1.name)\n",
        "print(user1.age)\n",
        "\n",
        "user2 = Human(\"侍花子\" , 28 )\n",
        "print(user2.name)\n",
        "print(user2.age)\n"
      ]
    }
  ]
}