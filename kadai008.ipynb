{
  "nbformat": 4,
  "nbformat_minor": 0,
  "metadata": {
    "colab": {
      "provenance": []
    },
    "kernelspec": {
      "name": "python3",
      "display_name": "Python 3"
    },
    "language_info": {
      "name": "python"
    }
  },
  "cells": [
    {
      "cell_type": "code",
      "execution_count": 27,
      "metadata": {
        "colab": {
          "base_uri": "https://localhost:8080/"
        },
        "id": "Futi5O0-1mi3",
        "outputId": "6eec86c5-08ad-4428-80e1-a42e4bd9bdec"
      },
      "outputs": [
        {
          "output_type": "stream",
          "name": "stdout",
          "text": [
            "10\n",
            "Buzz\n"
          ]
        }
      ],
      "source": [
        "import random\n",
        "var = random.randint(0, 100)\n",
        "print(var)\n",
        "if var % 3 == 0:\n",
        "    print(\"Fizz\")\n",
        "if var % 5 == 0:\n",
        "    print(\"Buzz\")\n",
        "if var % 3 == 0 and var % 5 == 0:\n",
        "    print(\"FizzBuzz\")"
      ]
    }
  ]
}