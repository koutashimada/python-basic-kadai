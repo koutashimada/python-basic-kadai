{
  "nbformat": 4,
  "nbformat_minor": 0,
  "metadata": {
    "colab": {
      "provenance": []
    },
    "kernelspec": {
      "name": "python3",
      "display_name": "Python 3"
    },
    "language_info": {
      "name": "python"
    }
  },
  "cells": [
    {
      "cell_type": "code",
      "execution_count": 34,
      "metadata": {
        "colab": {
          "base_uri": "https://localhost:8080/"
        },
        "id": "LM8EqdPM8KmR",
        "outputId": "bb4267d4-4d57-438b-87d2-cc50ce512989"
      },
      "outputs": [
        {
          "output_type": "stream",
          "name": "stdout",
          "text": [
            "侍は大人です\n",
            "侍次郎は大人ではありません\n",
            "[<__main__.Human object at 0x7f4a2269eec0>, <__main__.Human object at 0x7f4a224de3e0>]\n"
          ]
        }
      ],
      "source": [
        "class Human:\n",
        "    def __init__(self,name,age):\n",
        "      self.name = name\n",
        "      self.age = age\n",
        "\n",
        "    def check_adult(self):\n",
        "      if self.age >= 20:\n",
        "        print(f\"{self.name}は大人です\")\n",
        "      else:\n",
        "        print(f\"{self.name}は大人ではありません\")\n",
        "\n",
        "\n",
        "human1 = Human(\"侍\",30)\n",
        "human1.check_adult()\n",
        "\n",
        "human2 = Human(\"侍次郎\",8)\n",
        "human2.check_adult()\n",
        "\n",
        "humans =[human1 , human2]"
      ]
    }
  ]
}